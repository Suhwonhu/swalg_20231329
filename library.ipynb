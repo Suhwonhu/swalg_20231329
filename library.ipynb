{
 "cells": [
  {
   "cell_type": "code",
   "execution_count": 17,
   "id": "a265c50f-6566-4248-8f0b-42027eff46c4",
   "metadata": {},
   "outputs": [
    {
     "name": "stdout",
     "output_type": "stream",
     "text": [
      "메뉴\n",
      " 1. 도서 추가\n",
      " 2. 도서 삭제\n",
      " 3. 도서 검색\n",
      " 4. 도서 목록 출력\n",
      " 5. 도서 수 확인\n",
      " 6. 프로그램 종료\n"
     ]
    },
    {
     "name": "stdin",
     "output_type": "stream",
     "text": [
      "선택:  1\n",
      "제목과 저자를 입력하세요:  aesdafs rt\n"
     ]
    },
    {
     "name": "stdout",
     "output_type": "stream",
     "text": [
      "메뉴\n",
      " 1. 도서 추가\n",
      " 2. 도서 삭제\n",
      " 3. 도서 검색\n",
      " 4. 도서 목록 출력\n",
      " 5. 도서 수 확인\n",
      " 6. 프로그램 종료\n"
     ]
    },
    {
     "name": "stdin",
     "output_type": "stream",
     "text": [
      "선택:  1\n",
      "제목과 저자를 입력하세요:  asdfasdf f\n"
     ]
    },
    {
     "name": "stdout",
     "output_type": "stream",
     "text": [
      "메뉴\n",
      " 1. 도서 추가\n",
      " 2. 도서 삭제\n",
      " 3. 도서 검색\n",
      " 4. 도서 목록 출력\n",
      " 5. 도서 수 확인\n",
      " 6. 프로그램 종료\n"
     ]
    },
    {
     "name": "stdin",
     "output_type": "stream",
     "text": [
      "선택:  4\n"
     ]
    },
    {
     "name": "stdout",
     "output_type": "stream",
     "text": [
      "도서 목록:\n",
      "제목 리스트: \n",
      "1 :  aesdafs \n",
      "2 :  asdfasdf \n",
      "\n",
      "저자 리스트: \n",
      "1 :  rt \n",
      "2 :  f \n",
      "\n",
      "메뉴\n",
      " 1. 도서 추가\n",
      " 2. 도서 삭제\n",
      " 3. 도서 검색\n",
      " 4. 도서 목록 출력\n",
      " 5. 도서 수 확인\n",
      " 6. 프로그램 종료\n"
     ]
    },
    {
     "name": "stdin",
     "output_type": "stream",
     "text": [
      "선택:  2\n",
      "삭제하고싶은 책의 번호를 입력하세요:  1\n"
     ]
    },
    {
     "name": "stdout",
     "output_type": "stream",
     "text": [
      "메뉴\n",
      " 1. 도서 추가\n",
      " 2. 도서 삭제\n",
      " 3. 도서 검색\n",
      " 4. 도서 목록 출력\n",
      " 5. 도서 수 확인\n",
      " 6. 프로그램 종료\n"
     ]
    },
    {
     "name": "stdin",
     "output_type": "stream",
     "text": [
      "선택:  4\n"
     ]
    },
    {
     "name": "stdout",
     "output_type": "stream",
     "text": [
      "도서 목록:\n",
      "제목 리스트: \n",
      "1 :  asdfasdf \n",
      "\n",
      "저자 리스트: \n",
      "1 :  f \n",
      "\n",
      "메뉴\n",
      " 1. 도서 추가\n",
      " 2. 도서 삭제\n",
      " 3. 도서 검색\n",
      " 4. 도서 목록 출력\n",
      " 5. 도서 수 확인\n",
      " 6. 프로그램 종료\n"
     ]
    },
    {
     "name": "stdin",
     "output_type": "stream",
     "text": [
      "선택:  5\n"
     ]
    },
    {
     "name": "stdout",
     "output_type": "stream",
     "text": [
      "Right now, there are 1 books here\n",
      "메뉴\n",
      " 1. 도서 추가\n",
      " 2. 도서 삭제\n",
      " 3. 도서 검색\n",
      " 4. 도서 목록 출력\n",
      " 5. 도서 수 확인\n",
      " 6. 프로그램 종료\n"
     ]
    },
    {
     "name": "stdin",
     "output_type": "stream",
     "text": [
      "선택:  3\n",
      "찾고 싶은 책의 제목을 입력하세요:  asd\n"
     ]
    },
    {
     "name": "stdout",
     "output_type": "stream",
     "text": [
      "It's not here :(\n",
      "메뉴\n",
      " 1. 도서 추가\n",
      " 2. 도서 삭제\n",
      " 3. 도서 검색\n",
      " 4. 도서 목록 출력\n",
      " 5. 도서 수 확인\n",
      " 6. 프로그램 종료\n"
     ]
    },
    {
     "name": "stdin",
     "output_type": "stream",
     "text": [
      "선택:  3\n",
      "찾고 싶은 책의 제목을 입력하세요:  asdfasdf\n"
     ]
    },
    {
     "name": "stdout",
     "output_type": "stream",
     "text": [
      "we can find it! 제목: asdfasdf, 저자: f\n",
      "메뉴\n",
      " 1. 도서 추가\n",
      " 2. 도서 삭제\n",
      " 3. 도서 검색\n",
      " 4. 도서 목록 출력\n",
      " 5. 도서 수 확인\n",
      " 6. 프로그램 종료\n"
     ]
    },
    {
     "name": "stdin",
     "output_type": "stream",
     "text": [
      "선택:  6\n"
     ]
    },
    {
     "name": "stdout",
     "output_type": "stream",
     "text": [
      "Goodbye!\n"
     ]
    }
   ],
   "source": [
    "class Node:\n",
    "    def __init__(self, element, next=None):\n",
    "        self.data = element\n",
    "        self.link = next\n",
    "\n",
    "    # 1. append 정의\n",
    "    def append(self, node):\n",
    "        if node is not None:\n",
    "            node.link = self.link  # 그림 내 (1)\n",
    "            self.link = node  # 그림 내 (2)\n",
    "\n",
    "    # 2. popNext 정의\n",
    "    def popNext(self):\n",
    "        next_node = self.link\n",
    "        if next_node is not None:\n",
    "            self.link = next_node.link\n",
    "        return next_node\n",
    "\n",
    "\n",
    "class LinkedList:\n",
    "    def __init__(self):\n",
    "        self.head = None\n",
    "\n",
    "    def isEmpty(self):\n",
    "        return self.head is None\n",
    "\n",
    "    def isFull(self):\n",
    "        return False\n",
    "\n",
    "    def getNode(self, pos):\n",
    "        if pos < 0:\n",
    "            return None\n",
    "        ptr = self.head\n",
    "        for i in range(pos):\n",
    "            if ptr is None:\n",
    "                return None\n",
    "            ptr = ptr.link\n",
    "        return ptr\n",
    "\n",
    "    def getEntry(self, pos):\n",
    "        node = self.getNode(pos)\n",
    "        if node is None:\n",
    "            return None\n",
    "        else:\n",
    "            return node.data\n",
    "\n",
    "    def replace(self, pos, elem):\n",
    "        node = self.getNode(pos)\n",
    "        if node is None:\n",
    "            return None\n",
    "        else:\n",
    "            node.data = elem\n",
    "\n",
    "    def size(self):\n",
    "        ptr = self.head\n",
    "        count = 0\n",
    "        while ptr is not None:\n",
    "            ptr = ptr.link\n",
    "            count += 1\n",
    "        return count\n",
    "\n",
    "    def display(self, pos, msg=\"Linked List: \"):\n",
    "        print(msg, end='')\n",
    "        ptr = self.head\n",
    "        while ptr is not None:\n",
    "            pos += 1\n",
    "            print(pos, \": \", ptr.data, end=' \\n')\n",
    "            ptr = ptr.link\n",
    "        print(\"\") #end\n",
    "\n",
    "    def insert(self, pos, elem):\n",
    "        node = Node(elem, None)\n",
    "        before = self.getNode(pos-1)\n",
    "        if before is None:\n",
    "            node.link = self. head\n",
    "            self.head = node\n",
    "        else:\n",
    "            before.append(node)\n",
    "\n",
    "    def delete(self, pos):\n",
    "        before = self.getNode(pos-1)\n",
    "        if before == None:\n",
    "            if self.head is not None:\n",
    "                self.head = self.head.link\n",
    "            return before\n",
    "        else:\n",
    "            return before.popNext()\n",
    "\n",
    "    def find(self, elem):\n",
    "        ptr = self.head\n",
    "        pos = 0\n",
    "        while ptr is not None:\n",
    "            if ptr.data == elem:\n",
    "                return pos\n",
    "            ptr = ptr.link\n",
    "            pos += 1\n",
    "        return -1\n",
    "\n",
    "\n",
    "class Library:\n",
    "    def __init__(self):\n",
    "        #리스트 2개 생성 \n",
    "        self.titles = LinkedList() #제목 저장\n",
    "        self.authors = LinkedList() #저자 저장\n",
    "        \n",
    "        while True:\n",
    "            print(\"메뉴\\n 1. 도서 추가\\n 2. 도서 삭제\\n 3. 도서 검색\\n 4. 도서 목록 출력\\n 5. 도서 수 확인\\n 6. 프로그램 종료\")\n",
    "            self.entered = int(input(\"선택: \"))\n",
    "            if self.entered == 1:\n",
    "                self.add()\n",
    "                \n",
    "            elif self.entered == 2:\n",
    "                self.delete()\n",
    "                \n",
    "            elif self.entered == 3:\n",
    "                self.search()\n",
    "                \n",
    "            elif self.entered == 4:\n",
    "                self.display()\n",
    "                \n",
    "            elif self.entered == 5:\n",
    "                self.size()\n",
    "                \n",
    "            elif self.entered == 6:\n",
    "                print(\"Goodbye!\")\n",
    "                break\n",
    "    \n",
    "            else:\n",
    "                print(\"Error\")\n",
    "            \n",
    "\n",
    "    def add(self):\n",
    "        title, author = input(\"제목과 저자를 입력하세요: \").split()\n",
    "        self.titles.insert(self.titles.size(), title)\n",
    "        self.authors.insert(self.authors.size(), author)\n",
    "        return 0\n",
    "        \n",
    "\n",
    "    def delete(self):\n",
    "        pos = int(input(\"삭제하고싶은 책의 번호를 입력하세요: \"))\n",
    "        self.titles.delete(pos-1)\n",
    "        self.authors.delete(pos-1)\n",
    "        return 0\n",
    "\n",
    "    def search(self):\n",
    "        # 책 제목을 찾아서, 저자와 함께 출력\n",
    "        title = input(\"찾고 싶은 책의 제목을 입력하세요: \")\n",
    "        pos = self.titles.find(title)\n",
    "        if pos != -1:\n",
    "            print(f\"we can find it! 제목: {self.titles.getEntry(pos)}, 저자: {self.authors.getEntry(pos)}\")\n",
    "        else:\n",
    "            print(\"It's not here :(\")\n",
    "\n",
    "        return 0\n",
    "\n",
    "    def display(self):\n",
    "        print(\"도서 목록:\")\n",
    "        self.titles.display(0, \"제목 리스트: \\n\")\n",
    "        self.authors.display(0, \"저자 리스트: \\n\")\n",
    "\n",
    "        return 0\n",
    "\n",
    "    def size(self):\n",
    "        print(f\"Right now, there are {self.titles.size()} books here\")\n",
    "        return 0\n",
    "        \n",
    "\n",
    "\n",
    "# 예시 사용\n",
    "library = Library()\n",
    "\n",
    "\n"
   ]
  },
  {
   "cell_type": "code",
   "execution_count": null,
   "id": "979f56b7-a044-4029-91e2-ce147444ceb6",
   "metadata": {},
   "outputs": [],
   "source": []
  }
 ],
 "metadata": {
  "kernelspec": {
   "display_name": "Python 3 (ipykernel)",
   "language": "python",
   "name": "python3"
  },
  "language_info": {
   "codemirror_mode": {
    "name": "ipython",
    "version": 3
   },
   "file_extension": ".py",
   "mimetype": "text/x-python",
   "name": "python",
   "nbconvert_exporter": "python",
   "pygments_lexer": "ipython3",
   "version": "3.11.3"
  }
 },
 "nbformat": 4,
 "nbformat_minor": 5
}
